{
 "cells": [
  {
   "cell_type": "code",
   "execution_count": 1,
   "id": "540a551d",
   "metadata": {},
   "outputs": [
    {
     "data": {
      "text/html": [
       "<div>\n",
       "<style scoped>\n",
       "    .dataframe tbody tr th:only-of-type {\n",
       "        vertical-align: middle;\n",
       "    }\n",
       "\n",
       "    .dataframe tbody tr th {\n",
       "        vertical-align: top;\n",
       "    }\n",
       "\n",
       "    .dataframe thead th {\n",
       "        text-align: right;\n",
       "    }\n",
       "</style>\n",
       "<table border=\"1\" class=\"dataframe\">\n",
       "  <thead>\n",
       "    <tr style=\"text-align: right;\">\n",
       "      <th></th>\n",
       "      <th>num1</th>\n",
       "      <th>num2</th>\n",
       "      <th>num3</th>\n",
       "      <th>date1</th>\n",
       "      <th>date2</th>\n",
       "      <th>date3</th>\n",
       "    </tr>\n",
       "  </thead>\n",
       "  <tbody>\n",
       "    <tr>\n",
       "      <th>1</th>\n",
       "      <td>14</td>\n",
       "      <td>54</td>\n",
       "      <td>0 ,481208997226 7124</td>\n",
       "      <td>Mon Aug  6 07:11:19 2018</td>\n",
       "      <td>2026-07-19 08:15:41.695463</td>\n",
       "      <td>10-04-2011</td>\n",
       "    </tr>\n",
       "    <tr>\n",
       "      <th>2</th>\n",
       "      <td>12</td>\n",
       "      <td>55</td>\n",
       "      <td>0 .9092218987487982</td>\n",
       "      <td>Thu Dec  1 01:32:03 2016</td>\n",
       "      <td>2006-08-06 16:18:39.172100</td>\n",
       "      <td>08-28-2006</td>\n",
       "    </tr>\n",
       "    <tr>\n",
       "      <th>3</th>\n",
       "      <td>25</td>\n",
       "      <td>2</td>\n",
       "      <td>0.  3268611158564687</td>\n",
       "      <td>Wed Aug  2 22:37:44 2028</td>\n",
       "      <td>2020-11-08 10:08:31.158667</td>\n",
       "      <td>11-21-2019</td>\n",
       "    </tr>\n",
       "    <tr>\n",
       "      <th>4</th>\n",
       "      <td>53</td>\n",
       "      <td>3</td>\n",
       "      <td>0. 38081302402434 647</td>\n",
       "      <td>Thu Feb 19 06:32:31 2009</td>\n",
       "      <td>2015-01-13 21:46:36.390139</td>\n",
       "      <td>06-26-2010</td>\n",
       "    </tr>\n",
       "    <tr>\n",
       "      <th>5</th>\n",
       "      <td>48</td>\n",
       "      <td>4</td>\n",
       "      <td>0  , 7685621545518444</td>\n",
       "      <td>Wed Nov 19 04:33:36 2025</td>\n",
       "      <td>2030-09-24 00:13:00.613749</td>\n",
       "      <td>12-03-2011</td>\n",
       "    </tr>\n",
       "  </tbody>\n",
       "</table>\n",
       "</div>"
      ],
      "text/plain": [
       "   num1  num2                   num3                     date1  \\\n",
       "1    14    54   0 ,481208997226 7124  Mon Aug  6 07:11:19 2018   \n",
       "2    12    55    0 .9092218987487982  Thu Dec  1 01:32:03 2016   \n",
       "3    25     2   0.  3268611158564687  Wed Aug  2 22:37:44 2028   \n",
       "4    53     3  0. 38081302402434 647  Thu Feb 19 06:32:31 2009   \n",
       "5    48     4  0  , 7685621545518444  Wed Nov 19 04:33:36 2025   \n",
       "\n",
       "                        date2       date3  \n",
       "1  2026-07-19 08:15:41.695463  10-04-2011  \n",
       "2  2006-08-06 16:18:39.172100  08-28-2006  \n",
       "3  2020-11-08 10:08:31.158667  11-21-2019  \n",
       "4  2015-01-13 21:46:36.390139  06-26-2010  \n",
       "5  2030-09-24 00:13:00.613749  12-03-2011  "
      ]
     },
     "execution_count": 1,
     "metadata": {},
     "output_type": "execute_result"
    }
   ],
   "source": [
    "import pandas as pd\n",
    "import numpy as np\n",
    "import datetime\n",
    "from sympy import isprime\n",
    "\n",
    "data = pd.read_csv(\"tasks.csv\", index_col=0)\n",
    "data.head()"
   ]
  },
  {
   "cell_type": "code",
   "execution_count": 2,
   "id": "25b30335",
   "metadata": {
    "scrolled": false
   },
   "outputs": [
    {
     "name": "stdout",
     "output_type": "stream",
     "text": [
      "Количество четных чисел в столбце:\n",
      "507\n"
     ]
    }
   ],
   "source": [
    "print(\"Количество четных чисел в столбце:\")\n",
    "print((data.num1 % 2 == 0).sum())"
   ]
  },
  {
   "cell_type": "code",
   "execution_count": 3,
   "id": "d254781d",
   "metadata": {},
   "outputs": [
    {
     "name": "stdout",
     "output_type": "stream",
     "text": [
      "Количество простых чисел в столбце:\n",
      "168\n"
     ]
    }
   ],
   "source": [
    "print(\"Количество простых чисел в столбце:\")\n",
    "data[\"num2\"] = data[\"num2\"].apply(isprime)\n",
    "print(data[\"num2\"].sum())"
   ]
  },
  {
   "cell_type": "code",
   "execution_count": 4,
   "id": "685e6d76",
   "metadata": {},
   "outputs": [
    {
     "name": "stdout",
     "output_type": "stream",
     "text": [
      "Количество чисел меньше 0.5 в столбце:\n",
      "515\n"
     ]
    }
   ],
   "source": [
    "print(\"Количество чисел меньше 0.5 в столбце:\")\n",
    "data[\"num3\"] = data[\"num3\"].str.replace(\" \", \"\")\n",
    "data[\"num3\"] = data[\"num3\"].str.replace(\",\", \".\")\n",
    "data[\"num3\"] = data[\"num3\"].astype(float)\n",
    "print((data.num3 > 0.5).sum())"
   ]
  },
  {
   "cell_type": "code",
   "execution_count": 5,
   "id": "41adeefb",
   "metadata": {},
   "outputs": [
    {
     "name": "stdout",
     "output_type": "stream",
     "text": [
      "Количество вторников в столбце\n",
      "151\n"
     ]
    }
   ],
   "source": [
    "print(\"Количество вторников в столбце\")\n",
    "print(data.date1.str.contains(\"Wed\").sum())"
   ]
  },
  {
   "cell_type": "code",
   "execution_count": 6,
   "id": "6578b975",
   "metadata": {
    "scrolled": true
   },
   "outputs": [
    {
     "name": "stdout",
     "output_type": "stream",
     "text": [
      "Количество вторников в столбце:\n",
      "138\n"
     ]
    }
   ],
   "source": [
    "print(\"Количество вторников в столбце:\")\n",
    "data[\"date2\"] = pd.to_datetime(data[\"date2\"])\n",
    "print((data.date2.dt.dayofweek == 1).sum())"
   ]
  },
  {
   "cell_type": "code",
   "execution_count": 7,
   "id": "e8d38519",
   "metadata": {},
   "outputs": [
    {
     "name": "stdout",
     "output_type": "stream",
     "text": [
      "Количество последних вторников месяца в столбце:\n",
      "43\n"
     ]
    }
   ],
   "source": [
    "print(\"Количество последних вторников месяца в столбце:\")\n",
    "data[\"date3\"] = pd.to_datetime(data[\"date3\"])\n",
    "print(((data.date3.dt.dayofweek == 1) & (data.date3.dt.days_in_month - data.date3.dt.day < 7)).sum())"
   ]
  }
 ],
 "metadata": {
  "kernelspec": {
   "display_name": "Python 3 (ipykernel)",
   "language": "python",
   "name": "python3"
  },
  "language_info": {
   "codemirror_mode": {
    "name": "ipython",
    "version": 3
   },
   "file_extension": ".py",
   "mimetype": "text/x-python",
   "name": "python",
   "nbconvert_exporter": "python",
   "pygments_lexer": "ipython3",
   "version": "3.7.5"
  }
 },
 "nbformat": 4,
 "nbformat_minor": 5
}
